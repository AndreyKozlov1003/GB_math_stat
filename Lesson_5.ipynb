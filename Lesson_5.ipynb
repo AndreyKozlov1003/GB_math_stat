{
 "cells": [
  {
   "cell_type": "markdown",
   "id": "57650211",
   "metadata": {},
   "source": [
    "*Известно, что генеральная совокупность распределена нормально\n",
    "со средним квадратическим отклонением, равным 16.\n",
    "Найти доверительный интервал для оценки математического ожидания a с надежностью 0.95,\n",
    "если выборочная средняя M = 80, а объем выборки n = 256.*"
   ]
  },
  {
   "cell_type": "code",
   "execution_count": 18,
   "id": "03d5d845",
   "metadata": {},
   "outputs": [],
   "source": [
    "import math\n",
    "import numpy as np"
   ]
  },
  {
   "cell_type": "code",
   "execution_count": 15,
   "id": "f7745522",
   "metadata": {},
   "outputs": [],
   "source": [
    "std = 16\n",
    "beta = 0.95 \n",
    "M = 80 \n",
    "n = 256\n",
    "\n",
    "def delta(Z, std, n):\n",
    "    return Z*std/math.sqrt(n)"
   ]
  },
  {
   "cell_type": "code",
   "execution_count": 16,
   "id": "3d57dfaf",
   "metadata": {},
   "outputs": [
    {
     "data": {
      "text/plain": [
       "0.475"
      ]
     },
     "execution_count": 16,
     "metadata": {},
     "output_type": "execute_result"
    }
   ],
   "source": [
    "beta/2"
   ]
  },
  {
   "cell_type": "code",
   "execution_count": 17,
   "id": "597efbb5",
   "metadata": {},
   "outputs": [
    {
     "name": "stdout",
     "output_type": "stream",
     "text": [
      "Доверительный интервал - [78.04, 81.96]\n"
     ]
    }
   ],
   "source": [
    "Z = 1.96\n",
    "delta_ = delta(Z, std, n)\n",
    "print(f'Доверительный интервал - [{M - delta_}, {M + delta_}]')"
   ]
  },
  {
   "cell_type": "code",
   "execution_count": null,
   "id": "9c2c256a",
   "metadata": {},
   "outputs": [],
   "source": []
  },
  {
   "cell_type": "markdown",
   "id": "a3b0635c",
   "metadata": {},
   "source": [
    "*В результате 10 независимых измерений некоторой величины X, выполненных с одинаковой точностью,\n",
    "получены опытные данные:\n",
    "6.9, 6.1, 6.2, 6.8, 7.5, 6.3, 6.4, 6.9, 6.7, 6.1\n",
    "Предполагая, что результаты измерений подчинены нормальному закону распределения вероятностей,\n",
    "оценить истинное значение величины X при помощи доверительного интервала, покрывающего это\n",
    "значение с доверительной вероятностью 0,95.*"
   ]
  },
  {
   "cell_type": "code",
   "execution_count": 35,
   "id": "840ecf91",
   "metadata": {},
   "outputs": [],
   "source": [
    "X = [6.9, 6.1, 6.2, 6.8, 7.5, 6.3, 6.4, 6.9, 6.7, 6.1]\n",
    "n = len(X)\n",
    "M = round(np.mean(X), 2)\n",
    "t = 2.3"
   ]
  },
  {
   "cell_type": "code",
   "execution_count": 36,
   "id": "7513c6a2",
   "metadata": {},
   "outputs": [
    {
     "name": "stdout",
     "output_type": "stream",
     "text": [
      "Доверительный интервал для величины X - [6.26, 6.92]\n"
     ]
    }
   ],
   "source": [
    "delta_ = delta(t, np.std(X, ddof=1), n)\n",
    "print(f'Доверительный интервал для величины X - [{round(M - delta_, 2)}, {round(M + delta_, 2)}]')"
   ]
  },
  {
   "cell_type": "code",
   "execution_count": null,
   "id": "000fc1a3",
   "metadata": {},
   "outputs": [],
   "source": []
  },
  {
   "cell_type": "markdown",
   "id": "44298698",
   "metadata": {},
   "source": [
    "*Проведите тест гипотезы. Утверждается, что шарики для подшипников, изготовленные автоматическим станком, имеют средний диаметр 17 мм.\n",
    "Используя односторонний критерий с α=0,05, проверить эту гипотезу, если в выборке из n=100 шариков средний диаметр\n",
    "оказался равным 17.5 мм, а дисперсия известна и равна 4 кв. мм.*"
   ]
  },
  {
   "cell_type": "code",
   "execution_count": 50,
   "id": "a2cf24eb",
   "metadata": {},
   "outputs": [],
   "source": [
    "M = 17 \n",
    "X = 17.5\n",
    "alpha = 0.05\n",
    "n = 100\n",
    "D = 4"
   ]
  },
  {
   "cell_type": "code",
   "execution_count": 51,
   "id": "fe4f5bd0",
   "metadata": {},
   "outputs": [
    {
     "name": "stdout",
     "output_type": "stream",
     "text": [
      "0.45\n"
     ]
    }
   ],
   "source": [
    "Ф = (1 - 2*alpha)/2\n",
    "print(Ф)"
   ]
  },
  {
   "cell_type": "code",
   "execution_count": 52,
   "id": "3455e305",
   "metadata": {},
   "outputs": [],
   "source": [
    "Z_critical = 1.645"
   ]
  },
  {
   "cell_type": "code",
   "execution_count": 53,
   "id": "b843d5a1",
   "metadata": {},
   "outputs": [
    {
     "name": "stdout",
     "output_type": "stream",
     "text": [
      "2.5\n"
     ]
    }
   ],
   "source": [
    "Z = (X - M)*math.sqrt(n)/math.sqrt(D)\n",
    "print(Z)"
   ]
  },
  {
   "cell_type": "markdown",
   "id": "d91c0630",
   "metadata": {},
   "source": [
    "Получаем, что наблюдаемый критерий больше критического, поэтому на уровне значимости 0.05 нулевую гипотезу (средний диаметр равен 17 мм) отвергаем"
   ]
  },
  {
   "cell_type": "code",
   "execution_count": null,
   "id": "712cb8d3",
   "metadata": {},
   "outputs": [],
   "source": []
  },
  {
   "cell_type": "markdown",
   "id": "92699d38",
   "metadata": {},
   "source": [
    "*Проведите тест гипотезы. Продавец утверждает, что средний вес пачки печенья составляет 200 г.\n",
    "Из партии извлечена выборка из 10 пачек. Вес каждой пачки составляет:\n",
    "202, 203, 199, 197, 195, 201, 200, 204, 194, 190.\n",
    "Известно, что их веса распределены нормально.\n",
    "Верно ли утверждение продавца, если учитывать, что доверительная вероятность равна 99%? (Провести двусторонний тест.)*"
   ]
  },
  {
   "cell_type": "code",
   "execution_count": 54,
   "id": "a2ea73f6",
   "metadata": {},
   "outputs": [],
   "source": [
    "M = 200\n",
    "x = [202, 203, 199, 197, 195, 201, 200, 204, 194, 190]\n",
    "X = np.mean(x)\n",
    "n = len(x)\n",
    "beta = 0.99"
   ]
  },
  {
   "cell_type": "code",
   "execution_count": 59,
   "id": "f55d396d",
   "metadata": {},
   "outputs": [],
   "source": [
    "s = np.std(x, ddof=1)"
   ]
  },
  {
   "cell_type": "code",
   "execution_count": 60,
   "id": "e82317c7",
   "metadata": {},
   "outputs": [
    {
     "name": "stdout",
     "output_type": "stream",
     "text": [
      "198.5\n",
      "4.453463071962462\n"
     ]
    }
   ],
   "source": [
    "print(X)\n",
    "print(s)"
   ]
  },
  {
   "cell_type": "code",
   "execution_count": 66,
   "id": "095b3d5b",
   "metadata": {},
   "outputs": [
    {
     "name": "stdout",
     "output_type": "stream",
     "text": [
      "-0.9526610232449338\n"
     ]
    }
   ],
   "source": [
    "t_critical = 3.24\n",
    "T = (X - M)*math.sqrt(n)/s\n",
    "print(T)"
   ]
  },
  {
   "cell_type": "code",
   "execution_count": 69,
   "id": "95b9738e",
   "metadata": {},
   "outputs": [
    {
     "name": "stdout",
     "output_type": "stream",
     "text": [
      "Нулевая гипотеза о том, что средний вес составляет 200 г принимается\n"
     ]
    }
   ],
   "source": [
    "print('Нулевая гипотеза о том, что средний вес составляет 200 г принимается') if abs(T) < t_critical \\\n",
    "else print('Нулевая гипотеза отвергается')"
   ]
  },
  {
   "cell_type": "code",
   "execution_count": null,
   "id": "f1acd9c5",
   "metadata": {},
   "outputs": [],
   "source": []
  }
 ],
 "metadata": {
  "kernelspec": {
   "display_name": "Python 3 (ipykernel)",
   "language": "python",
   "name": "python3"
  },
  "language_info": {
   "codemirror_mode": {
    "name": "ipython",
    "version": 3
   },
   "file_extension": ".py",
   "mimetype": "text/x-python",
   "name": "python",
   "nbconvert_exporter": "python",
   "pygments_lexer": "ipython3",
   "version": "3.9.7"
  }
 },
 "nbformat": 4,
 "nbformat_minor": 5
}
