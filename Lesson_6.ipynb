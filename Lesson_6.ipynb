{
 "cells": [
  {
   "cell_type": "markdown",
   "id": "ce4653a5",
   "metadata": {},
   "source": [
    "Даны значения величины заработной платы заемщиков банка (zp) и значения их поведенческого кредитного скоринга (ks):\n",
    "\n",
    "zp = [35, 45, 190, 200, 40, 70, 54, 150, 120, 110],\n",
    "\n",
    "ks = [401, 574, 874, 919, 459, 739, 653, 902, 746, 832].\n",
    "Найдите ковариацию этих двух величин с помощью элементарных действий, а затем с помощью функции cov из numpy\n",
    "Полученные значения должны быть равны.\n",
    "\n",
    "Найдите коэффициент корреляции Пирсона с помощью ковариации и среднеквадратичных отклонений двух признаков,\n",
    "а затем с использованием функций из библиотек numpy и pandas."
   ]
  },
  {
   "cell_type": "code",
   "execution_count": 2,
   "id": "4d7ac9af",
   "metadata": {},
   "outputs": [],
   "source": [
    "import numpy as np\n",
    "import pandas as pd\n",
    "zp = [35, 45, 190, 200, 40, 70, 54, 150, 120, 110]\n",
    "ks = [401, 574, 874, 919, 459, 739, 653, 902, 746, 832]"
   ]
  },
  {
   "cell_type": "code",
   "execution_count": 5,
   "id": "460ef6a6",
   "metadata": {},
   "outputs": [],
   "source": [
    "zp_mean = np.mean(zp)\n",
    "ks_mean = np.mean(ks)"
   ]
  },
  {
   "cell_type": "code",
   "execution_count": 7,
   "id": "155b5dbd",
   "metadata": {},
   "outputs": [],
   "source": [
    "zp = np.array(zp)\n",
    "ks = np.array(ks)"
   ]
  },
  {
   "cell_type": "code",
   "execution_count": 10,
   "id": "ac9b1726",
   "metadata": {},
   "outputs": [
    {
     "name": "stdout",
     "output_type": "stream",
     "text": [
      "10175.377777777778\n"
     ]
    }
   ],
   "source": [
    "zp_1 = zp - zp_mean\n",
    "ks_1 = ks - ks_mean\n",
    "covariance = sum(zp_1*ks_1)/(len(zp_1) - 1)\n",
    "print(covariance)"
   ]
  },
  {
   "cell_type": "code",
   "execution_count": 13,
   "id": "6d0323b4",
   "metadata": {},
   "outputs": [
    {
     "data": {
      "text/plain": [
       "10175.377777777776"
      ]
     },
     "execution_count": 13,
     "metadata": {},
     "output_type": "execute_result"
    }
   ],
   "source": [
    "np.cov(zp, ks)[0,1]"
   ]
  },
  {
   "cell_type": "code",
   "execution_count": 17,
   "id": "eff41248",
   "metadata": {},
   "outputs": [
    {
     "name": "stdout",
     "output_type": "stream",
     "text": [
      "0.8874900920739162\n"
     ]
    }
   ],
   "source": [
    "corr_1 = covariance/np.std(zp, ddof=1)/np.std(ks, ddof=1)\n",
    "print(corr_1)"
   ]
  },
  {
   "cell_type": "code",
   "execution_count": 19,
   "id": "4a029d6f",
   "metadata": {},
   "outputs": [
    {
     "name": "stdout",
     "output_type": "stream",
     "text": [
      "0.8874900920739162\n"
     ]
    }
   ],
   "source": [
    "corr_2 = np.corrcoef(zp, ks)\n",
    "print(corr_2[0, 1])"
   ]
  },
  {
   "cell_type": "code",
   "execution_count": null,
   "id": "57c9189e",
   "metadata": {},
   "outputs": [],
   "source": []
  },
  {
   "cell_type": "markdown",
   "id": "90395284",
   "metadata": {},
   "source": [
    "Измерены значения IQ выборки студентов,\n",
    "\n",
    "обучающихся в местных технических вузах:\n",
    "\n",
    "131, 125, 115, 122, 131, 115, 107, 99, 125, 111.\n",
    "\n",
    "Известно, что в генеральной совокупности IQ распределен нормально.\n",
    "\n",
    "Найдите доверительный интервал для математического ожидания с надежностью 0.95."
   ]
  },
  {
   "cell_type": "code",
   "execution_count": 59,
   "id": "32d4e56f",
   "metadata": {},
   "outputs": [
    {
     "name": "stdout",
     "output_type": "stream",
     "text": [
      "118.1\n"
     ]
    }
   ],
   "source": [
    "import math\n",
    "iq = [131, 125, 115, 122, 131, 115, 107, 99, 125, 111]\n",
    "iq_avg = sum(iq)/len(iq)\n",
    "print(iq_avg)\n",
    "\n",
    "iq = np.array(iq)"
   ]
  },
  {
   "cell_type": "code",
   "execution_count": 54,
   "id": "3410e916",
   "metadata": {},
   "outputs": [
    {
     "name": "stdout",
     "output_type": "stream",
     "text": [
      "10.5\n"
     ]
    }
   ],
   "source": [
    "D = np.sum((iq - iq_avg)**2)/(len(iq)-1)\n",
    "sigma = round(math.sqrt(D), 1)\n",
    "print(sigma)"
   ]
  },
  {
   "cell_type": "code",
   "execution_count": 57,
   "id": "ec3b47d5",
   "metadata": {},
   "outputs": [
    {
     "name": "stdout",
     "output_type": "stream",
     "text": [
      "6.5\n"
     ]
    }
   ],
   "source": [
    "delta = round(sigma*1.96/math.sqrt(len(iq)), 1)\n",
    "print(delta)"
   ]
  },
  {
   "cell_type": "code",
   "execution_count": 58,
   "id": "5fa16f9b",
   "metadata": {},
   "outputs": [
    {
     "name": "stdout",
     "output_type": "stream",
     "text": [
      "Доверительный для математического ожидания с надежностью 0.95 равен [111.6, 124.6]\n"
     ]
    }
   ],
   "source": [
    "print(f'Доверительный для математического ожидания с надежностью 0.95 равен [{iq_avg - delta}, {iq_avg + delta}]')"
   ]
  },
  {
   "cell_type": "code",
   "execution_count": null,
   "id": "35cef21a",
   "metadata": {},
   "outputs": [],
   "source": []
  },
  {
   "cell_type": "markdown",
   "id": "f95a1c62",
   "metadata": {},
   "source": [
    "Известно, что рост футболистов в сборной распределен нормально\n",
    "с дисперсией генеральной совокупности, равной 25 кв.см. Объем выборки равен 27,\n",
    "среднее выборочное составляет 174.2. Найдите доверительный интервал для математического\n",
    "ожидания с надежностью 0.95."
   ]
  },
  {
   "cell_type": "code",
   "execution_count": 66,
   "id": "941643ce",
   "metadata": {},
   "outputs": [
    {
     "name": "stdout",
     "output_type": "stream",
     "text": [
      "Доверительный для математического ожидания с надежностью 0.95 равен [172.3, 176.1]\n"
     ]
    }
   ],
   "source": [
    "D = 25\n",
    "n = 27\n",
    "m = 174.2\n",
    "delta = 1.96 * math.sqrt(D)/math.sqrt(n)\n",
    "print(f'Доверительный для математического ожидания с надежностью 0.95 равен [{round(m - delta, 1)}, {round(m + delta, 1)}]')"
   ]
  },
  {
   "cell_type": "code",
   "execution_count": null,
   "id": "a3416938",
   "metadata": {},
   "outputs": [],
   "source": []
  }
 ],
 "metadata": {
  "kernelspec": {
   "display_name": "Python 3 (ipykernel)",
   "language": "python",
   "name": "python3"
  },
  "language_info": {
   "codemirror_mode": {
    "name": "ipython",
    "version": 3
   },
   "file_extension": ".py",
   "mimetype": "text/x-python",
   "name": "python",
   "nbconvert_exporter": "python",
   "pygments_lexer": "ipython3",
   "version": "3.9.7"
  }
 },
 "nbformat": 4,
 "nbformat_minor": 5
}
