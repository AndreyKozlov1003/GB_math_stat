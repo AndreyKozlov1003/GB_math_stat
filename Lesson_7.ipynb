{
 "cells": [
  {
   "cell_type": "markdown",
   "id": "0d8aa7ba",
   "metadata": {},
   "source": [
    "Даны значения величины заработной платы заемщиков банка (zp) и значения их поведенческого кредитного скоринга (ks): \n",
    "\n",
    "zp = [35, 45, 190, 200, 40, 70, 54, 150, 120, 110], \n",
    "ks = [401, 574, 874, 919, 459, 739, 653, 902, 746, 832]. \n",
    "\n",
    "Используя математические операции, посчитать коэффициенты линейной регрессии, приняв за X заработную плату (то есть, zp - признак), а за y - значения скорингового балла (то есть, ks - целевая переменная). \n",
    "Произвести расчет как с использованием intercept, так и без."
   ]
  },
  {
   "cell_type": "code",
   "execution_count": 1,
   "id": "976c1469",
   "metadata": {},
   "outputs": [],
   "source": [
    "import numpy as np\n",
    "from matplotlib import pyplot as plt\n",
    "%matplotlib inline"
   ]
  },
  {
   "cell_type": "code",
   "execution_count": 2,
   "id": "231aed68",
   "metadata": {},
   "outputs": [],
   "source": [
    "zp = [35, 45, 190, 200, 40, 70, 54, 150, 120, 110]\n",
    "ks = [401, 574, 874, 919, 459, 739, 653, 902, 746, 832]"
   ]
  },
  {
   "cell_type": "code",
   "execution_count": 3,
   "id": "201ba5a7",
   "metadata": {},
   "outputs": [
    {
     "data": {
      "text/plain": [
       "array([[1.        , 0.88749009],\n",
       "       [0.88749009, 1.        ]])"
      ]
     },
     "execution_count": 3,
     "metadata": {},
     "output_type": "execute_result"
    }
   ],
   "source": [
    "np.corrcoef(zp, ks)"
   ]
  },
  {
   "cell_type": "code",
   "execution_count": 4,
   "id": "f920e219",
   "metadata": {},
   "outputs": [
    {
     "name": "stdout",
     "output_type": "stream",
     "text": [
      "101.4\n",
      "709.9\n"
     ]
    }
   ],
   "source": [
    "X_mean = np.array(zp).mean()\n",
    "print(X_mean)\n",
    "Y_mean = np.array(ks).mean()\n",
    "print(Y_mean)"
   ]
  },
  {
   "cell_type": "code",
   "execution_count": 5,
   "id": "856593a0",
   "metadata": {},
   "outputs": [
    {
     "name": "stdout",
     "output_type": "stream",
     "text": [
      "13776.6\n"
     ]
    }
   ],
   "source": [
    "X_sq_mean = np.array(zp)**2\n",
    "X_sq_mean = X_sq_mean.mean()\n",
    "print(X_sq_mean)"
   ]
  },
  {
   "cell_type": "code",
   "execution_count": 6,
   "id": "eae7ea78",
   "metadata": {},
   "outputs": [
    {
     "name": "stdout",
     "output_type": "stream",
     "text": [
      "81141.7\n"
     ]
    }
   ],
   "source": [
    "Y_X_mean = np.array(zp)*np.array(ks)\n",
    "Y_X_mean = Y_X_mean.mean()\n",
    "print(Y_X_mean)"
   ]
  },
  {
   "cell_type": "code",
   "execution_count": 7,
   "id": "544c0fe0",
   "metadata": {},
   "outputs": [
    {
     "name": "stdout",
     "output_type": "stream",
     "text": [
      "2.62\n"
     ]
    }
   ],
   "source": [
    "b = round((Y_X_mean - X_mean*Y_mean)/(X_sq_mean - X_mean**2), 2)\n",
    "print(b)"
   ]
  },
  {
   "cell_type": "code",
   "execution_count": 8,
   "id": "4665df3c",
   "metadata": {},
   "outputs": [
    {
     "name": "stdout",
     "output_type": "stream",
     "text": [
      "444.23\n"
     ]
    }
   ],
   "source": [
    "a = round(Y_mean - b*X_mean, 2)\n",
    "print(a)"
   ]
  },
  {
   "cell_type": "markdown",
   "id": "ded08d3f",
   "metadata": {},
   "source": [
    "Получаем, что уравнение линейной регрессии имеет следующий вид: y = 444.23 + 2.62*x"
   ]
  },
  {
   "cell_type": "code",
   "execution_count": 9,
   "id": "3758bb7e",
   "metadata": {},
   "outputs": [
    {
     "data": {
      "image/png": "[encoded data removed]",
      "text/plain": [
       "<Figure size 432x288 with 1 Axes>"
      ]
     },
     "metadata": {
      "needs_background": "light"
     },
     "output_type": "display_data"
    }
   ],
   "source": [
    "plt.scatter(zp, ks)\n",
    "x = np.linspace(0, 200)\n",
    "func = lambda x: 444.23 + 2.62*x\n",
    "y = [func(item) for item in x]\n",
    "plt.plot(x, y)\n",
    "plt.show()"
   ]
  },
  {
   "cell_type": "markdown",
   "id": "af0ccef0",
   "metadata": {},
   "source": [
    "Решение той же задачи, но матричным методом\n"
   ]
  },
  {
   "cell_type": "code",
   "execution_count": 10,
   "id": "b26e5d1d",
   "metadata": {},
   "outputs": [],
   "source": [
    "X = np.array(zp)\n",
    "Y = np.array(ks)\n",
    "X = X.reshape((10, 1))\n",
    "Y = Y.reshape((10, 1))"
   ]
  },
  {
   "cell_type": "code",
   "execution_count": 11,
   "id": "424280c0",
   "metadata": {},
   "outputs": [],
   "source": [
    "X = np.hstack([np.ones((10,1)), X])"
   ]
  },
  {
   "cell_type": "code",
   "execution_count": 12,
   "id": "7f47f618",
   "metadata": {},
   "outputs": [],
   "source": [
    "beta = np.dot(np.linalg.inv(X.T.dot(X)), np.dot(X.T, Y))"
   ]
  },
  {
   "cell_type": "code",
   "execution_count": 13,
   "id": "b7cf08d7",
   "metadata": {},
   "outputs": [
    {
     "name": "stdout",
     "output_type": "stream",
     "text": [
      "Получаем, что уравнение линейной регрессии имеет следующий вид: y = 444.17735732435904 + 2.620538882402766*x\n"
     ]
    }
   ],
   "source": [
    "print(f'Получаем, что уравнение линейной регрессии имеет следующий вид: y = {beta[0][0]} + {beta[1][0]}*x')"
   ]
  },
  {
   "cell_type": "markdown",
   "id": "173b5c72",
   "metadata": {},
   "source": [
    "Матричный метод без intercept"
   ]
  },
  {
   "cell_type": "code",
   "execution_count": 14,
   "id": "24421c78",
   "metadata": {},
   "outputs": [],
   "source": [
    "X = np.array(zp)\n",
    "Y = np.array(ks)\n",
    "X = X.reshape((10, 1))\n",
    "Y = Y.reshape((10, 1))\n",
    "beta_without_intercept = np.dot(np.linalg.inv(X.T.dot(X)), np.dot(X.T, Y))"
   ]
  },
  {
   "cell_type": "code",
   "execution_count": 15,
   "id": "86ce9702",
   "metadata": {},
   "outputs": [
    {
     "data": {
      "image/png": "[encoded data removed]",
      "text/plain": [
       "<Figure size 432x288 with 1 Axes>"
      ]
     },
     "metadata": {
      "needs_background": "light"
     },
     "output_type": "display_data"
    }
   ],
   "source": [
    "plt.scatter(zp, ks)\n",
    "plt.plot(x, beta_without_intercept[0][0]*x)\n",
    "plt.show()"
   ]
  },
  {
   "cell_type": "code",
   "execution_count": 16,
   "id": "7c1edc4b",
   "metadata": {},
   "outputs": [
    {
     "name": "stdout",
     "output_type": "stream",
     "text": [
      "5.889820420132688\n"
     ]
    }
   ],
   "source": [
    "print(beta_without_intercept[0][0])"
   ]
  },
  {
   "cell_type": "markdown",
   "id": "f9a030c0",
   "metadata": {},
   "source": [
    "Градиентный спуск без intercept"
   ]
  },
  {
   "cell_type": "code",
   "execution_count": 64,
   "id": "ec081174",
   "metadata": {},
   "outputs": [
    {
     "name": "stdout",
     "output_type": "stream",
     "text": [
      "5.87875294522654\n"
     ]
    }
   ],
   "source": [
    "X = np.array(zp)\n",
    "Y = np.array(ks)\n",
    "def MSE (X, Y, beta):\n",
    "    n = len(X)\n",
    "    return 1/n*np.sum((beta*X - Y)**2)\n",
    "def dMSE (X, Y, beta):\n",
    "    n = len(X)\n",
    "    return 2/n*np.sum((beta*X - Y)*X)\n",
    "lr = 0.000001\n",
    "n = 1000\n",
    "beta = 1\n",
    "eps = 0.1\n",
    "for i in range(n):\n",
    "    MSE_0 = MSE(X, Y, beta)\n",
    "    beta -= lr*dMSE(X, Y, beta)\n",
    "    MSE_1 = MSE(X, Y, beta)\n",
    "    if abs(MSE_0 - MSE_1) < eps: \n",
    "        break\n",
    "print(beta)"
   ]
  },
  {
   "cell_type": "code",
   "execution_count": 32,
   "id": "8cad148a",
   "metadata": {},
   "outputs": [],
   "source": []
  },
  {
   "cell_type": "code",
   "execution_count": null,
   "id": "7fecf4b3",
   "metadata": {},
   "outputs": [],
   "source": []
  },
  {
   "cell_type": "markdown",
   "id": "3d473d08",
   "metadata": {},
   "source": [
    "Градиентный спуск с intercept"
   ]
  },
  {
   "cell_type": "code",
   "execution_count": 65,
   "id": "8ae6bbb9",
   "metadata": {},
   "outputs": [
    {
     "name": "stdout",
     "output_type": "stream",
     "text": [
      "2.6221548293764307 443.95781250029677\n"
     ]
    },
    {
     "data": {
      "image/png": "[encoded data removed]",
      "text/plain": [
       "<Figure size 432x288 with 1 Axes>"
      ]
     },
     "metadata": {
      "needs_background": "light"
     },
     "output_type": "display_data"
    }
   ],
   "source": [
    "X = np.array(zp)\n",
    "Y = np.array(ks)\n",
    "def MSE (X, Y, a, b):\n",
    "    n = len(X)\n",
    "    return 1/n*np.sum((a + b*X - Y)**2)\n",
    "\n",
    "def dMSE_a (X, Y, a, b):\n",
    "    n = len(X)\n",
    "    return np.sum(-X * (Y - (a * X + b))) / n\n",
    "\n",
    "def dMSE_b (X, Y, a, b):\n",
    "    n = len(X)\n",
    "    return np.sum(-(Y - (a * X + b))) / n\n",
    "\n",
    "\n",
    "lr1 = 0.0001\n",
    "lr2 = 0.0001\n",
    "n = 300000\n",
    "a = 1\n",
    "b = 1\n",
    "\n",
    "for i in range(n):\n",
    "    a -= lr1*dMSE_a(X, Y, a, b)\n",
    "    b -= lr2*dMSE_b(X, Y, a, b)\n",
    "\n",
    "print(a, b)\n",
    "\n",
    "plt.scatter(zp, ks)\n",
    "plt.plot(x, b + a*x)\n",
    "plt.show()"
   ]
  },
  {
   "cell_type": "code",
   "execution_count": null,
   "id": "9d7537b3",
   "metadata": {},
   "outputs": [],
   "source": []
  },
  {
   "cell_type": "code",
   "execution_count": null,
   "id": "72ea09d9",
   "metadata": {},
   "outputs": [],
   "source": []
  },
  {
   "cell_type": "code",
   "execution_count": null,
   "id": "139fd155",
   "metadata": {},
   "outputs": [],
   "source": []
  },
  {
   "cell_type": "code",
   "execution_count": null,
   "id": "7add0b3b",
   "metadata": {},
   "outputs": [],
   "source": []
  },
  {
   "cell_type": "code",
   "execution_count": null,
   "id": "175698c7",
   "metadata": {},
   "outputs": [],
   "source": []
  }
 ],
 "metadata": {
  "kernelspec": {
   "display_name": "Python 3 (ipykernel)",
   "language": "python",
   "name": "python3"
  },
  "language_info": {
   "codemirror_mode": {
    "name": "ipython",
    "version": 3
   },
   "file_extension": ".py",
   "mimetype": "text/x-python",
   "name": "python",
   "nbconvert_exporter": "python",
   "pygments_lexer": "ipython3",
   "version": "3.9.7"
  }
 },
 "nbformat": 4,
 "nbformat_minor": 5
}
