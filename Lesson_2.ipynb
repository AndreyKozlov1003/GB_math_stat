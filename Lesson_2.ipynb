{
 "cells": [
  {
   "cell_type": "markdown",
   "id": "7d73c6d8",
   "metadata": {},
   "source": [
    "1. Вероятность того, что стрелок попадет в мишень, выстрелив один раз, равна 0.8. Стрелок выстрелил 100 раз. Найдите вероятность того, что стрелок попадет в цель ровно 85 раз."
   ]
  },
  {
   "cell_type": "code",
   "execution_count": 30,
   "id": "1028925d",
   "metadata": {},
   "outputs": [],
   "source": [
    "from math import factorial"
   ]
  },
  {
   "cell_type": "code",
   "execution_count": 2,
   "id": "770b8bc0",
   "metadata": {},
   "outputs": [],
   "source": [
    "def combs (n, k):\n",
    "    if k != 0:\n",
    "        return factorial(n)/factorial(k)/factorial(n-k)\n",
    "    else:\n",
    "        return 1\n",
    "def bernulli(p, n, k):\n",
    "    return combs(n, k)*p**k*(1-p)**(n-k)"
   ]
  },
  {
   "cell_type": "code",
   "execution_count": 3,
   "id": "54914163",
   "metadata": {},
   "outputs": [
    {
     "name": "stdout",
     "output_type": "stream",
     "text": [
      "0.0481\n"
     ]
    }
   ],
   "source": [
    "p = 0.8\n",
    "n = 100 \n",
    "k = 85\n",
    "P = bernulli(p, n, k)\n",
    "print(round(P, 4))"
   ]
  },
  {
   "cell_type": "markdown",
   "id": "fb45cfbe",
   "metadata": {},
   "source": [
    "2. Вероятность того, что лампочка перегорит в течение первого дня эксплуатации, равна 0.0004. В жилом комплексе после ремонта в один день включили 5000 новых лампочек. Какова вероятность, что ни одна из них не перегорит в первый день? Какова вероятность, что перегорят ровно две?"
   ]
  },
  {
   "cell_type": "code",
   "execution_count": 4,
   "id": "d3caee7e",
   "metadata": {},
   "outputs": [
    {
     "name": "stdout",
     "output_type": "stream",
     "text": [
      "Вероятность того, что ни одна из ламп не перегорит - 0.1353\n"
     ]
    }
   ],
   "source": [
    "p = 0.0004\n",
    "n = 5000 \n",
    "k = 0\n",
    "P1 = bernulli(p, n, k)\n",
    "print(f'Вероятность того, что ни одна из ламп не перегорит - {round(P1, 4)}')"
   ]
  },
  {
   "cell_type": "code",
   "execution_count": 5,
   "id": "05f30c41",
   "metadata": {},
   "outputs": [
    {
     "name": "stdout",
     "output_type": "stream",
     "text": [
      "Вероятность того, что две лампы перегорят - 0.2707\n"
     ]
    }
   ],
   "source": [
    "k = 4998\n",
    "p = 0.9996\n",
    "P2 = bernulli(p, n, k)\n",
    "print(f'Вероятность того, что две лампы перегорят - {round(P2, 4)}')"
   ]
  },
  {
   "cell_type": "markdown",
   "id": "7069793e",
   "metadata": {},
   "source": [
    "3. Монету подбросили 144 раза. Какова вероятность, что орел выпадет ровно 70 раз?"
   ]
  },
  {
   "cell_type": "code",
   "execution_count": 6,
   "id": "cf3419bf",
   "metadata": {},
   "outputs": [
    {
     "name": "stdout",
     "output_type": "stream",
     "text": [
      "Вероятность того, что орел выпадет ровно 70 раз - 0.0628\n"
     ]
    }
   ],
   "source": [
    "p = 0.5 #вероятность выпадания орла в случае, если пространство элементарных событий содержит только два возможных исхода\n",
    "n = 144\n",
    "k = 70\n",
    "print(f'Вероятность того, что орел выпадет ровно 70 раз - {round((bernulli(p, n, k)), 4)}')"
   ]
  },
  {
   "cell_type": "markdown",
   "id": "86a94cff",
   "metadata": {},
   "source": [
    "4. В первом ящике находится 10 мячей, из которых 7 - белые. Во втором ящике - 11 мячей, из которых 9 белых. Из каждого ящика вытаскивают случайным образом по два мяча. Какова вероятность того, что все мячи белые? Какова вероятность того, что ровно два мяча белые? Какова вероятность того, что хотя бы один мяч белый?"
   ]
  },
  {
   "cell_type": "code",
   "execution_count": 28,
   "id": "baa4562e",
   "metadata": {},
   "outputs": [
    {
     "name": "stdout",
     "output_type": "stream",
     "text": [
      "0.3055\n"
     ]
    }
   ],
   "source": [
    "'''\n",
    "а) вероятность того, что все мячи белые - это произведение вероятности вынуть 2 белых мяча из первой корзины \n",
    "на вероятность вынуть 2 мяча из второй одновременно. События независимы друг от друга\n",
    "'''\n",
    "P = (7/10*6/9)*(9/11*8/10)\n",
    "print(round(P, 4))"
   ]
  },
  {
   "cell_type": "code",
   "execution_count": 29,
   "id": "382473a2",
   "metadata": {},
   "outputs": [
    {
     "name": "stdout",
     "output_type": "stream",
     "text": [
      "0.04363636363636363\n"
     ]
    }
   ],
   "source": [
    "'''\n",
    "б) Вероятность того, что ровно два мяча белые складывается из нескольких возможностей - \n",
    "1. Белый и черный из 1 корзины + белый и черный из второй корзины\n",
    "2. Два белых из первой корзины + два черных из второй корзины\n",
    "3. Два черных из первой корзины + два белых из второй корзины\n",
    "'''\n",
    "p1 = 7/10*3/9*9/11*2/10\n",
    "p2 = 7/10*6/9*2/11*1/10\n",
    "p3 = 3/10*2/9*9/11*8/10\n",
    "print(p3)\n",
    "P = p1 + p2 + p3"
   ]
  },
  {
   "cell_type": "code",
   "execution_count": 10,
   "id": "cd74f3e2",
   "metadata": {},
   "outputs": [
    {
     "name": "stdout",
     "output_type": "stream",
     "text": [
      "0.9988\n"
     ]
    }
   ],
   "source": [
    "'''\n",
    "Вероятность того, что хотя бы 1 мяч белый равна 1 вычесть вероятность того, что все мячи черные\n",
    "'''\n",
    "P = 1 - 3/10*2/9*2/11*1/10\n",
    "print(round(P, 4))"
   ]
  },
  {
   "cell_type": "code",
   "execution_count": null,
   "id": "7c26b269",
   "metadata": {},
   "outputs": [],
   "source": []
  },
  {
   "cell_type": "code",
   "execution_count": null,
   "id": "7280ece1",
   "metadata": {},
   "outputs": [],
   "source": []
  }
 ],
 "metadata": {
  "kernelspec": {
   "display_name": "Python 3 (ipykernel)",
   "language": "python",
   "name": "python3"
  },
  "language_info": {
   "codemirror_mode": {
    "name": "ipython",
    "version": 3
   },
   "file_extension": ".py",
   "mimetype": "text/x-python",
   "name": "python",
   "nbconvert_exporter": "python",
   "pygments_lexer": "ipython3",
   "version": "3.9.7"
  }
 },
 "nbformat": 4,
 "nbformat_minor": 5
}
