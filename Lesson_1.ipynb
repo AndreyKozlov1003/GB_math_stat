{
 "cells": [
  {
   "cell_type": "code",
   "execution_count": 40,
   "id": "64b923ca",
   "metadata": {},
   "outputs": [],
   "source": [
    "from numpy import random\n",
    "import math"
   ]
  },
  {
   "cell_type": "markdown",
   "id": "be64e748",
   "metadata": {},
   "source": [
    "1. Из колоды в 52 карты извлекаются случайным образом 4 карты. a) Найти вероятность того, что все карты – крести. б) Найти вероятность, что среди 4-х карт окажется хотя бы один туз."
   ]
  },
  {
   "cell_type": "markdown",
   "id": "e8dc03cb",
   "metadata": {},
   "source": [
    "Число возможностей вытащить случайным образом 4 карты из 52 - "
   ]
  },
  {
   "cell_type": "code",
   "execution_count": 41,
   "id": "a0222fbf",
   "metadata": {},
   "outputs": [],
   "source": [
    "def C (n,k):\n",
    "    return math.factorial(n)/math.factorial(k)/math.factorial(n-k)"
   ]
  },
  {
   "cell_type": "code",
   "execution_count": 43,
   "id": "b6e6d1e9",
   "metadata": {},
   "outputs": [
    {
     "data": {
      "text/plain": [
       "270725.0"
      ]
     },
     "execution_count": 43,
     "metadata": {},
     "output_type": "execute_result"
    }
   ],
   "source": [
    "C(52, 4)"
   ]
  },
  {
   "cell_type": "code",
   "execution_count": 48,
   "id": "5b4973ce",
   "metadata": {},
   "outputs": [
    {
     "name": "stdout",
     "output_type": "stream",
     "text": [
      "0.00264\n"
     ]
    }
   ],
   "source": [
    "P_a = round(C(13, 4)/C(52, 4), 5) \n",
    "print(P_a)"
   ]
  },
  {
   "cell_type": "markdown",
   "id": "53981f57",
   "metadata": {},
   "source": [
    "вероятность, что среди 4-х карт окажется хотя бы один туз равна 1 - вероятность того, что среди 4х карт не будет ни одного туза"
   ]
  },
  {
   "cell_type": "code",
   "execution_count": 55,
   "id": "af5e09d9",
   "metadata": {},
   "outputs": [
    {
     "name": "stdout",
     "output_type": "stream",
     "text": [
      "0.2813\n"
     ]
    }
   ],
   "source": [
    "P_b = 1 - C(48, 4)/C(52, 4)\n",
    "print(round(P_b, 4))"
   ]
  },
  {
   "cell_type": "markdown",
   "id": "36d0a432",
   "metadata": {},
   "source": [
    "2. На входной двери подъезда установлен кодовый замок, содержащий десять кнопок с цифрами от 0 до 9. Код содержит три цифры, которые нужно нажать одновременно. Какова вероятность того, что человек, не знающий код, откроет дверь с первой попытки?"
   ]
  },
  {
   "cell_type": "code",
   "execution_count": 56,
   "id": "4ce142d4",
   "metadata": {},
   "outputs": [
    {
     "name": "stdout",
     "output_type": "stream",
     "text": [
      "0.008333333333333333\n"
     ]
    }
   ],
   "source": [
    "P = 1/C(10, 3)\n",
    "print(P)"
   ]
  },
  {
   "cell_type": "markdown",
   "id": "88f6a526",
   "metadata": {},
   "source": [
    "3. В ящике имеется 15 деталей, из которых 9 окрашены. Рабочий случайным образом извлекает 3 детали. Какова вероятность того, что все извлеченные детали окрашены?"
   ]
  },
  {
   "cell_type": "markdown",
   "id": "f0e93235",
   "metadata": {},
   "source": [
    "Общее число исходов - количество сочетаний, которыми можно вытащить 3 детали из 15.\n",
    "Благоприятные исходы - количество возможностей, которыми можно вытащить 3 окрашенных детали из 9."
   ]
  },
  {
   "cell_type": "code",
   "execution_count": 60,
   "id": "cf1778d0",
   "metadata": {},
   "outputs": [
    {
     "name": "stdout",
     "output_type": "stream",
     "text": [
      "0.18461538461538463\n"
     ]
    }
   ],
   "source": [
    "P = C(9, 3)/ C(15, 3)\n",
    "print(P)"
   ]
  },
  {
   "cell_type": "markdown",
   "id": "6630a41b",
   "metadata": {},
   "source": [
    "Либо можно рассмотреть другой вариант:\n",
    "вероятность вытащить первую окрашенную деталь - 9/15, \n",
    "вторую - 8/14, \n",
    "третью уже 7/13. \n",
    "А вероятность того, что все детали будут окрашенные - произведение вероятностей"
   ]
  },
  {
   "cell_type": "code",
   "execution_count": 61,
   "id": "6b37846c",
   "metadata": {},
   "outputs": [
    {
     "name": "stdout",
     "output_type": "stream",
     "text": [
      "0.1846153846153846\n"
     ]
    }
   ],
   "source": [
    "P = 9/15*8/14*7/13\n",
    "print(P)"
   ]
  },
  {
   "cell_type": "markdown",
   "id": "b33ad900",
   "metadata": {},
   "source": [
    "4. В лотерее 100 билетов. Из них 2 выигрышных. Какова вероятность того, что 2 приобретенных билета окажутся выигрышными?"
   ]
  },
  {
   "cell_type": "code",
   "execution_count": 64,
   "id": "21eca215",
   "metadata": {},
   "outputs": [
    {
     "name": "stdout",
     "output_type": "stream",
     "text": [
      "0.00020202020202020202\n"
     ]
    }
   ],
   "source": [
    "P = C(2,2)/ C(100, 2)\n",
    "print(P)"
   ]
  },
  {
   "cell_type": "code",
   "execution_count": null,
   "id": "44634b1b",
   "metadata": {},
   "outputs": [],
   "source": []
  },
  {
   "cell_type": "code",
   "execution_count": null,
   "id": "05aa99d7",
   "metadata": {},
   "outputs": [],
   "source": []
  }
 ],
 "metadata": {
  "kernelspec": {
   "display_name": "Python 3 (ipykernel)",
   "language": "python",
   "name": "python3"
  },
  "language_info": {
   "codemirror_mode": {
    "name": "ipython",
    "version": 3
   },
   "file_extension": ".py",
   "mimetype": "text/x-python",
   "name": "python",
   "nbconvert_exporter": "python",
   "pygments_lexer": "ipython3",
   "version": "3.9.7"
  }
 },
 "nbformat": 4,
 "nbformat_minor": 5
}
