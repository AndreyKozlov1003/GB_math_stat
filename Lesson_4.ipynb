{
 "cells": [
  {
   "cell_type": "markdown",
   "id": "cda9999b",
   "metadata": {},
   "source": [
    "1. Случайная непрерывная величина A имеет равномерное распределение на промежутке (200, 800].\n",
    "Найдите ее среднее значение и дисперсию."
   ]
  },
  {
   "cell_type": "code",
   "execution_count": 14,
   "id": "c6eeccb3",
   "metadata": {},
   "outputs": [],
   "source": [
    "import math\n",
    "def M_uniform(a, b):\n",
    "    return (b + a)/2\n",
    "\n",
    "def D_uniform(a, b):\n",
    "    return (b - a)**2/12"
   ]
  },
  {
   "cell_type": "code",
   "execution_count": 2,
   "id": "de86fde7",
   "metadata": {},
   "outputs": [
    {
     "name": "stdout",
     "output_type": "stream",
     "text": [
      "Среднее значение случайной величины - 500.0\n",
      "Дисперсия случайной величины - 30000.0\n"
     ]
    }
   ],
   "source": [
    "a = 200\n",
    "b = 800\n",
    "print(f'Среднее значение случайной величины - {M_uniform(a, b)}')\n",
    "print(f'Дисперсия случайной величины - {D_uniform(a, b)}')"
   ]
  },
  {
   "cell_type": "markdown",
   "id": "5f2fd32d",
   "metadata": {},
   "source": [
    "2. О случайной непрерывной равномерно распределенной величине B известно, что ее дисперсия равна 0.2.\n",
    "Можно ли найти правую границу величины B и ее среднее значение зная, что левая граница равна 0.5?\n",
    "Если да, найдите ее."
   ]
  },
  {
   "cell_type": "code",
   "execution_count": 3,
   "id": "2ade62b2",
   "metadata": {},
   "outputs": [],
   "source": [
    "D = 0.2\n",
    "a = 0.5"
   ]
  },
  {
   "cell_type": "markdown",
   "id": "d2f0918c",
   "metadata": {},
   "source": [
    "12D = (b-a)^2\n",
    "\n",
    "\n",
    "(b-a) = sqrt(12D)\n",
    "\n",
    "\n",
    "-(b-a) = sqrt(12D)\n",
    "\n",
    "b1 = sqrt(12D) + a\n",
    "\n",
    "\n",
    "b2 = a - sqrt(12D)"
   ]
  },
  {
   "cell_type": "code",
   "execution_count": 5,
   "id": "bbde48f0",
   "metadata": {},
   "outputs": [
    {
     "name": "stdout",
     "output_type": "stream",
     "text": [
      "2.049193338482967\n",
      "-1.0491933384829668\n"
     ]
    }
   ],
   "source": [
    "b1 = math.sqrt(12*D) + a\n",
    "b2 = a - math.sqrt(12*D)\n",
    "print(b1)\n",
    "print(b2)"
   ]
  },
  {
   "cell_type": "markdown",
   "id": "93a3a1c7",
   "metadata": {},
   "source": [
    "Очевидно, что b2 не удовлетворяет условию задачи, поскольку правая граница не может быть меньше левой. \n",
    "\n",
    "Равномерное распределение приобретает вид f (x) = (0.5, 2.0491]"
   ]
  },
  {
   "cell_type": "code",
   "execution_count": 6,
   "id": "0014c7c5",
   "metadata": {},
   "outputs": [
    {
     "name": "stdout",
     "output_type": "stream",
     "text": [
      "Среднее значение случайной величины - 1.2745966692414834\n"
     ]
    }
   ],
   "source": [
    "print(f'Среднее значение случайной величины - {M_uniform(a, b1)}')"
   ]
  },
  {
   "cell_type": "code",
   "execution_count": 7,
   "id": "92864aaf",
   "metadata": {},
   "outputs": [
    {
     "name": "stdout",
     "output_type": "stream",
     "text": [
      "Дисперсия случайной величины - 0.20000000000000004\n"
     ]
    }
   ],
   "source": [
    "print(f'Дисперсия случайной величины - {D_uniform(a, b1)}')"
   ]
  },
  {
   "cell_type": "markdown",
   "id": "5ae85c29",
   "metadata": {},
   "source": [
    "3. Непрерывная случайная величина X распределена нормально и задана плотностью распределения\n",
    "f(x) = (1 / (4 * sqrt(2pi))) * exp((-(x+2)**2) / 32)\n",
    "Найдите:\n",
    "а). M(X)\n",
    "б). D(X)\n",
    "в). std(X) (среднее квадратичное отклонение)"
   ]
  },
  {
   "cell_type": "code",
   "execution_count": 8,
   "id": "dc1a3b77",
   "metadata": {},
   "outputs": [],
   "source": [
    "M_X = -2\n",
    "D_X = 16\n",
    "sigma = 4"
   ]
  },
  {
   "cell_type": "markdown",
   "id": "3ff834df",
   "metadata": {},
   "source": [
    "4. Рост взрослого населения города X имеет нормальное распределение.\n",
    "Причем, средний рост равен 174 см, а среднее квадратичное отклонение равно 8 см.\n",
    "Какова вероятность того, что случайным образом выбранный взрослый человек имеет рост:\n",
    "\n",
    "а). больше 182 см\n",
    "\n",
    "б). больше 190 см\n",
    "\n",
    "в). от 166 см до 190 см\n",
    "\n",
    "г). от 166 см до 182 см\n",
    "\n",
    "д). от 158 см до 190 см\n",
    "\n",
    "е). не выше 150 см или не ниже 190 см\n",
    "\n",
    "ё). не выше 150 см или не ниже 198 см\n",
    "\n",
    "ж). ниже 166 см."
   ]
  },
  {
   "cell_type": "code",
   "execution_count": 11,
   "id": "d63608bd",
   "metadata": {},
   "outputs": [
    {
     "name": "stdout",
     "output_type": "stream",
     "text": [
      "Диапазон [-sigma, +sigma] равен [166, 182]. В нем лежит 68% измерений\n",
      "Диапазон [-2sigma, +2sigma] равен [158, 190]. В нем лежит 95.4% измерений\n",
      "Диапазон [-3sigma, +3sigma] равен [150, 198]. В нем лежит 99.72% измерений\n"
     ]
    }
   ],
   "source": [
    "M = 174 \n",
    "std = 8 \n",
    "print(f'Диапазон [-sigma, +sigma] равен [{M-std}, {M+std}]. В нем лежит 68% измерений')\n",
    "print(f'Диапазон [-2sigma, +2sigma] равен [{M-2*std}, {M+2*std}]. В нем лежит 95.4% измерений')\n",
    "print(f'Диапазон [-3sigma, +3sigma] равен [{M-3*std}, {M+3*std}]. В нем лежит 99.72% измерений')"
   ]
  },
  {
   "cell_type": "code",
   "execution_count": 8,
   "id": "623be3bb",
   "metadata": {},
   "outputs": [
    {
     "name": "stdout",
     "output_type": "stream",
     "text": [
      "Вероятность того, что рост случайного человека больше 182 см составляет - 16.0%\n",
      "Вероятность того, что рост случайного человека больше 190 см составляет - 2.299999999999997%\n"
     ]
    }
   ],
   "source": [
    "print(f'Вероятность того, что рост случайного человека больше 182 см составляет - {(100-68)/2}%')\n",
    "print(f'Вероятность того, что рост случайного человека больше 190 см составляет - {(100-95.4)/2}%')"
   ]
  },
  {
   "cell_type": "code",
   "execution_count": 4,
   "id": "1a3d80a2",
   "metadata": {},
   "outputs": [
    {
     "name": "stdout",
     "output_type": "stream",
     "text": [
      "Вероятность того, что рост случайного человека от 166 см до 190 см составляет - 81.7%\n"
     ]
    }
   ],
   "source": [
    "print(f'Вероятность того, что рост случайного человека от 166 см до 190 см составляет - {68 + (95.4 - 68)/2}%')"
   ]
  },
  {
   "cell_type": "code",
   "execution_count": 9,
   "id": "42b26956",
   "metadata": {},
   "outputs": [
    {
     "name": "stdout",
     "output_type": "stream",
     "text": [
      "Вероятность того, что рост случайного человека от 166 см до 182 см составляет - 68%\n"
     ]
    }
   ],
   "source": [
    "print(f'Вероятность того, что рост случайного человека от 166 см до 182 см составляет - {68}%')"
   ]
  },
  {
   "cell_type": "code",
   "execution_count": 10,
   "id": "45f9cc5b",
   "metadata": {},
   "outputs": [
    {
     "name": "stdout",
     "output_type": "stream",
     "text": [
      "Вероятность того, что рост случайного человека от 158 см до 190 см составляет - 95.4%\n"
     ]
    }
   ],
   "source": [
    "print(f'Вероятность того, что рост случайного человека от 158 см до 190 см составляет - {95.4}%')"
   ]
  },
  {
   "cell_type": "code",
   "execution_count": 11,
   "id": "896f369f",
   "metadata": {},
   "outputs": [
    {
     "name": "stdout",
     "output_type": "stream",
     "text": [
      "Вероятность того, что рост случайного человека не выше 150 см или не ниже 190 см составляет - 2.4399999999999977%\n"
     ]
    }
   ],
   "source": [
    "print(f'Вероятность того, что рост случайного человека не выше 150 см или не ниже 190 см составляет - '\n",
    "      f'{(100 - 99.72)/2 + (100 - 95.4)/2}%')"
   ]
  },
  {
   "cell_type": "code",
   "execution_count": 12,
   "id": "c1294b2a",
   "metadata": {},
   "outputs": [
    {
     "name": "stdout",
     "output_type": "stream",
     "text": [
      "Вероятность того, что рост случайного человека не выше 150 см или не ниже 198 см составляет - 0.28000000000000114%\n"
     ]
    }
   ],
   "source": [
    "print(f'Вероятность того, что рост случайного человека не выше 150 см или не ниже 198 см составляет - '\n",
    "      f'{(100 - 99.72)}%')"
   ]
  },
  {
   "cell_type": "code",
   "execution_count": 13,
   "id": "7056c705",
   "metadata": {},
   "outputs": [
    {
     "name": "stdout",
     "output_type": "stream",
     "text": [
      "Вероятность того, что рост случайного человека ниже 166 см составляет - 16.0%\n"
     ]
    }
   ],
   "source": [
    "print(f'Вероятность того, что рост случайного человека ниже 166 см составляет - {(100-68)/2}%')"
   ]
  },
  {
   "cell_type": "code",
   "execution_count": null,
   "id": "ed351bdb",
   "metadata": {},
   "outputs": [],
   "source": []
  },
  {
   "cell_type": "markdown",
   "id": "06507a89",
   "metadata": {},
   "source": [
    "4.На сколько сигм (средних квадратичных отклонений) отклоняется рост человека, равный 190 см, от\n",
    "математического ожидания роста в популяции, в которой M(X) = 178 см и D(X) = 25 кв.см?"
   ]
  },
  {
   "cell_type": "code",
   "execution_count": 15,
   "id": "8299db6b",
   "metadata": {},
   "outputs": [
    {
     "name": "stdout",
     "output_type": "stream",
     "text": [
      "Отклонение роста человека составляет - 2.4 сигм\n"
     ]
    }
   ],
   "source": [
    "M = 178\n",
    "var = 25 \n",
    "std = math.sqrt(var)\n",
    "\n",
    "print(f'Отклонение роста человека составляет - {(190-178)/std} сигм')"
   ]
  },
  {
   "cell_type": "code",
   "execution_count": null,
   "id": "660a7d02",
   "metadata": {},
   "outputs": [],
   "source": []
  }
 ],
 "metadata": {
  "kernelspec": {
   "display_name": "Python 3 (ipykernel)",
   "language": "python",
   "name": "python3"
  },
  "language_info": {
   "codemirror_mode": {
    "name": "ipython",
    "version": 3
   },
   "file_extension": ".py",
   "mimetype": "text/x-python",
   "name": "python",
   "nbconvert_exporter": "python",
   "pygments_lexer": "ipython3",
   "version": "3.9.7"
  }
 },
 "nbformat": 4,
 "nbformat_minor": 5
}
